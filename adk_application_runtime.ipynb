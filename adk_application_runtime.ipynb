{
 "cells": [
  {
   "cell_type": "markdown",
   "source": [],
   "metadata": {
    "collapsed": false
   }
  },
  {
   "cell_type": "code",
   "execution_count": null,
   "metadata": {
    "collapsed": true
   },
   "outputs": [],
   "source": [
    "import mlrun\n",
    "from dotenv import load_dotenv\n",
    "import os\n",
    "load_dotenv(\"secrets.env\")\n",
    "project = mlrun.get_or_create_project(\"adk-project\")\n",
    "\n",
    "# Create a demo secret for testing\n",
    "project.set_secrets(secrets={\"OPENAI_BASE_URL\":os.environ[\"OPENAI_BASE_URL\"], \"OPENAI_API_KEY\": os.environ[\"OPENAI_API_KEY\"],\n",
    "\"AWS_ACCESS_KEY_ID\": os.environ[\"AWS_ACCESS_KEY_ID\"],\"AWS_SECRET_ACCESS_KEY\": os.environ[\"AWS_SECRET_ACCESS_KEY\"]})"
   ]
  },
  {
   "cell_type": "markdown",
   "source": [
    "## Log Artifacts\n",
    "- Log reviews by customers.\n",
    "- Log sanitation reports by the health inspector.\n",
    "\n",
    "Please upload the parquet files before logging the artifacts."
   ],
   "metadata": {
    "collapsed": false
   }
  },
  {
   "cell_type": "code",
   "execution_count": null,
   "outputs": [],
   "source": [
    "project.log_artifact(\n",
    "                \"restaurants_reviews\",\n",
    "                local_path=\"v3io://projects/adk-project/restaurants_reviews.pq\",\n",
    ")\n",
    "project.log_artifact(\n",
    "                \"restaurants_sanitation_reports\",\n",
    "                local_path=\"s3://bucket_name/path/restaurants_sanitation_reports.pq\",\n",
    "            )"
   ],
   "metadata": {
    "collapsed": false,
    "is_executing": true
   }
  },
  {
   "cell_type": "code",
   "execution_count": null,
   "outputs": [],
   "source": [
    "!tar -czvf /User/v3io/projects/adk-project/agent_demo.tar.gz /User/agent_demo"
   ],
   "metadata": {
    "collapsed": false
   }
  },
  {
   "cell_type": "markdown",
   "source": [
    "## Setting up application runtime\n",
    "- Using a mlrun image with including the requirements for the adk agent.\n",
    "- Setting up the internal application port."
   ],
   "metadata": {
    "collapsed": false
   }
  },
  {
   "cell_type": "code",
   "execution_count": null,
   "outputs": [],
   "source": [
    "application = project.set_function(\n",
    "    name=\"adk-app\",\n",
    "    kind=\"application\",\n",
    "    image = \"mlrun/mlrun\",\n",
    "    requirements= [\"litellm\",\"google-adk\",\"python-multipart\"]\n",
    ")"
   ],
   "metadata": {
    "collapsed": false
   }
  },
  {
   "cell_type": "code",
   "execution_count": null,
   "outputs": [],
   "source": [
    "application.with_source_archive(\n",
    "    \"v3io:///projects/adk-project/agent_demo.tar.gz\", pull_at_runtime=False\n",
    ")"
   ],
   "metadata": {
    "collapsed": false
   }
  },
  {
   "cell_type": "code",
   "execution_count": null,
   "outputs": [],
   "source": [
    "application.set_internal_application_port(5000)\n",
    "\n",
    "application.spec.command = \"bash\"\n",
    "application.spec.args = [\"-c\",\"cd /home/mlrun_code/User/agent_demo && adk web --host 127.0.0.1 --port 5000\"]"
   ],
   "metadata": {
    "collapsed": false
   }
  },
  {
   "cell_type": "code",
   "execution_count": null,
   "outputs": [],
   "source": [
    "application.deploy()"
   ],
   "metadata": {
    "collapsed": false
   }
  }
 ],
 "metadata": {
  "kernelspec": {
   "display_name": "Python 3",
   "language": "python",
   "name": "python3"
  },
  "language_info": {
   "codemirror_mode": {
    "name": "ipython",
    "version": 2
   },
   "file_extension": ".py",
   "mimetype": "text/x-python",
   "name": "python",
   "nbconvert_exporter": "python",
   "pygments_lexer": "ipython2",
   "version": "2.7.6"
  }
 },
 "nbformat": 4,
 "nbformat_minor": 0
}
